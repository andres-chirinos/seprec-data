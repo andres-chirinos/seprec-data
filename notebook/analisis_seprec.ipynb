{
  "nbformat": 4,
  "nbformat_minor": 0,
  "metadata": {
    "colab": {
      "provenance": [],
      "authorship_tag": "ABX9TyPgDgPM2pWqLynLkDA3jXjT",
      "include_colab_link": true
    },
    "kernelspec": {
      "name": "python3",
      "display_name": "Python 3"
    },
    "language_info": {
      "name": "python"
    }
  },
  "cells": [
    {
      "cell_type": "markdown",
      "metadata": {
        "id": "view-in-github",
        "colab_type": "text"
      },
      "source": [
        "<a href=\"https://colab.research.google.com/github/andres-chirinos/seprec-data/blob/main/notebook/analisis_seprec.ipynb\" target=\"_parent\"><img src=\"https://colab.research.google.com/assets/colab-badge.svg\" alt=\"Open In Colab\"/></a>"
      ]
    },
    {
      "cell_type": "code",
      "execution_count": 1,
      "metadata": {
        "id": "TN2buA5i8jVu"
      },
      "outputs": [],
      "source": [
        "from google.colab import drive\n",
        "import gzip\n",
        "from bs4 import BeautifulSoup\n",
        "from urllib.parse import urlparse\n",
        "import pandas as pd\n",
        "import os"
      ]
    },
    {
      "cell_type": "code",
      "source": [
        "# PARAMS\n",
        "zip_file = \"\"\"/content/drive/Shareddrives/Repositorio de Datos/Data Lake/seprec-api/seprec_buscador_data.zip\"\"\""
      ],
      "metadata": {
        "id": "cU1i7uDJ9I2n"
      },
      "execution_count": 2,
      "outputs": []
    },
    {
      "cell_type": "code",
      "source": [
        "drive.mount('/content/drive')\n",
        "\n",
        "file = zip_file.split(\"/\")[-1]\n",
        "file_name = file.split(\".\")[0]\n",
        "\n",
        "!unzip -q \"{zip_file}\" -d \"/content\""
      ],
      "metadata": {
        "colab": {
          "base_uri": "https://localhost:8080/"
        },
        "id": "hbvLREoP9OSo",
        "outputId": "e85b32d1-380f-4b47-c921-f8290a3de640"
      },
      "execution_count": 3,
      "outputs": [
        {
          "output_type": "stream",
          "name": "stdout",
          "text": [
            "Mounted at /content/drive\n"
          ]
        }
      ]
    },
    {
      "cell_type": "code",
      "metadata": {
        "colab": {
          "base_uri": "https://localhost:8080/"
        },
        "id": "4579dff8",
        "outputId": "bf8fe517-3d1d-4e28-f967-31a1947aa370"
      },
      "source": [
        "directory_path = \"/content/data\"\n",
        "all_files = os.listdir(directory_path)\n",
        "json_files = [os.path.join(directory_path, f) for f in all_files if f.endswith(\".json\")]\n",
        "\n",
        "print(f\"Found {len(json_files)} JSON files.\")\n",
        "print(\"First 5 JSON files:\")\n",
        "for file in json_files[:5]:\n",
        "    print(file)"
      ],
      "execution_count": 4,
      "outputs": [
        {
          "output_type": "stream",
          "name": "stdout",
          "text": [
            "Found 102244 JSON files.\n",
            "First 5 JSON files:\n",
            "/content/data/result_a_3548.json\n",
            "/content/data/result_e_3613.json\n",
            "/content/data/result_a_6066.json\n",
            "/content/data/result_i_5908.json\n",
            "/content/data/result_u_16633.json\n"
          ]
        }
      ]
    },
    {
      "cell_type": "code",
      "metadata": {
        "colab": {
          "base_uri": "https://localhost:8080/"
        },
        "id": "7cc32f6f",
        "outputId": "858ebeee-a45e-48f0-c9b8-2ffc021ccf9b"
      },
      "source": [
        "!pip install jsonpath-ng"
      ],
      "execution_count": 5,
      "outputs": [
        {
          "output_type": "stream",
          "name": "stdout",
          "text": [
            "Collecting jsonpath-ng\n",
            "  Downloading jsonpath_ng-1.7.0-py3-none-any.whl.metadata (18 kB)\n",
            "Requirement already satisfied: ply in /usr/local/lib/python3.12/dist-packages (from jsonpath-ng) (3.11)\n",
            "Downloading jsonpath_ng-1.7.0-py3-none-any.whl (30 kB)\n",
            "Installing collected packages: jsonpath-ng\n",
            "Successfully installed jsonpath-ng-1.7.0\n"
          ]
        }
      ]
    },
    {
      "cell_type": "code",
      "metadata": {
        "id": "77379327"
      },
      "source": [
        "import json\n",
        "from jsonpath_ng import parse\n",
        "\n",
        "def extract_data_from_json(file_path, queries):\n",
        "    \"\"\"\n",
        "    Abre un archivo JSON, carga su contenido y concatena los resultados\n",
        "    de cada query en registros fila por fila.\n",
        "    \"\"\"\n",
        "    with open(file_path, 'r') as f:\n",
        "        data = json.load(f)\n",
        "\n",
        "    # Primero obtenemos las listas por clave\n",
        "    extracted = {}\n",
        "    for name, query in queries.items():\n",
        "        jsonpath_expression = parse(query)\n",
        "        extracted[name] = [m.value for m in jsonpath_expression.find(data)]\n",
        "\n",
        "    # Ahora alineamos por índice\n",
        "    concatenated = []\n",
        "    max_len = max(len(v) for v in extracted.values()) if extracted else 0\n",
        "\n",
        "    for i in range(max_len):\n",
        "        row = {}\n",
        "        for key, values in extracted.items():\n",
        "            row[key] = values[i] if i < len(values) else None\n",
        "        concatenated.append(row)\n",
        "\n",
        "    return concatenated\n"
      ],
      "execution_count": 6,
      "outputs": []
    },
    {
      "cell_type": "code",
      "source": [
        "claves = {\n",
        "    \"id\": \"$.datos.filas[*].id\",\n",
        "    \"id_establecimiento\": \"$.datos.filas[*].idEstablecimiento\",\n",
        "    \"estado\": \"$.datos.filas[*].estado\",\n",
        "    \"matricula\": \"$.datos.filas[*].matricula\",\n",
        "    \"matricula_anterior\": \"$.datos.filas[*].matriculaAnterior\",\n",
        "    \"id_estado_actualizacion\": \"$.datos.filas[*].codEstadoActualizacion.id\",\n",
        "    \"codigo_estado_actualizacion\": \"$.datos.filas[*].codEstadoActualizacion.codigo\",\n",
        "    \"nombre_estado_actualizacion\": \"$.datos.filas[*].codEstadoActualizacion.nombre\",\n",
        "    \"id_tipo_unidad_economica\": \"$.datos.filas[*].codTipoUnidadEconomica.id\",\n",
        "    \"codigo_tipo_unidad_economica\": \"$.datos.filas[*].codTipoUnidadEconomica.codigo\",\n",
        "    \"nombre_tipo_unidad_economica\": \"$.datos.filas[*].codTipoUnidadEconomica.nombre\",\n",
        "    \"id_direccion\": \"$.datos.filas[*].direccion.id\",\n",
        "    \"id_direccion_departamento\": \"$.datos.filas[*].direccion.codDepartamento.id\",\n",
        "    \"codigo_direccion_departamento\": \"$.datos.filas[*].direccion.codDepartamento.codigo\",\n",
        "    \"nombre_direccion_departamento\": \"$.datos.filas[*].direccion.codDepartamento.nombre\",\n",
        "    \"razon_social\": \"$.datos.filas[*].razonSocial\"\n",
        "}\n",
        "\n",
        "extracted_data = extract_data_from_json(\"/content/data/result_a_3548.json\", claves)\n",
        "print(extracted_data[0])"
      ],
      "metadata": {
        "colab": {
          "base_uri": "https://localhost:8080/"
        },
        "id": "CDWZt-imBhZi",
        "outputId": "48fe54d2-4962-461d-d8e3-5fd559da6ea0"
      },
      "execution_count": 7,
      "outputs": [
        {
          "output_type": "stream",
          "name": "stdout",
          "text": [
            "{'id': '28690', 'id_establecimiento': '28690', 'estado': 'PENDIENTE', 'matricula': None, 'matricula_anterior': '00029556', 'id_estado_actualizacion': 17, 'codigo_estado_actualizacion': '1', 'nombre_estado_actualizacion': 'MATRICULA NO RENOVADA', 'id_tipo_unidad_economica': 18, 'codigo_tipo_unidad_economica': '01', 'nombre_tipo_unidad_economica': 'EMPRESA UNIPERSONAL', 'id_direccion': '28690', 'id_direccion_departamento': 420, 'codigo_direccion_departamento': '02', 'nombre_direccion_departamento': 'LA PAZ', 'razon_social': 'BARRACA VILLA ADELA'}\n"
          ]
        }
      ]
    },
    {
      "cell_type": "code",
      "metadata": {
        "colab": {
          "base_uri": "https://localhost:8080/"
        },
        "id": "b8a3e555",
        "outputId": "4981ef74-a282-4600-a716-6087d86a1aaa"
      },
      "source": [
        "from multiprocessing import Pool\n",
        "from tqdm import tqdm\n",
        "\n",
        "# función wrapper para map (para incluir queries)\n",
        "def process_file(file_path):\n",
        "    return extract_data_from_json(file_path, claves)\n",
        "\n",
        "with Pool(processes=16) as pool:\n",
        "    extracted_results = list(tqdm(pool.imap(process_file, json_files), total=len(json_files)))\n",
        "\n",
        "print(f\"Successfully extracted data from {len(extracted_results)} files.\")\n"
      ],
      "execution_count": null,
      "outputs": [
        {
          "output_type": "stream",
          "name": "stderr",
          "text": [
            "  4%|▍         | 4459/102244 [09:45<3:38:36,  7.45it/s]"
          ]
        }
      ]
    },
    {
      "cell_type": "code",
      "source": [
        "df = pd.DataFrame(extracted_results)\n",
        "display(df.head())\n",
        "df.info()"
      ],
      "metadata": {
        "id": "rI0jf4FrAV4P"
      },
      "execution_count": null,
      "outputs": []
    }
  ]
}